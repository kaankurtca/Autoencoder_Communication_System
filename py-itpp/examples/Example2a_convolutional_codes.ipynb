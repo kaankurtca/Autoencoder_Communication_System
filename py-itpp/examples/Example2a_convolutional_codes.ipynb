{
 "cells": [
  {
   "cell_type": "markdown",
   "metadata": {},
   "source": [
    "# Simulation of a convolutional encoder and decoder\n",
    "\n",
    "In this example we will show how to use the convolutional encoder/decoder class in py-itpp. The Viterbi decoder uses the soft received values. Original C++ version of this example is available at http://itpp.sourceforge.net/4.3.1/convcode.html."
   ]
  },
  {
   "cell_type": "code",
   "execution_count": 1,
   "metadata": {},
   "outputs": [],
   "source": [
    "# Imports\n",
    "import itpp\n",
    "from matplotlib import pyplot as plt"
   ]
  },
  {
   "cell_type": "markdown",
   "metadata": {},
   "source": [
    "#  Set up the convolutional encoder/decoder class:\n",
    "In this example we will simulate a rate 1/3 code that is listed in J. G. Proakis, \"Digital communications\". The encoder has constraint length 7."
   ]
  },
  {
   "cell_type": "code",
   "execution_count": 2,
   "metadata": {},
   "outputs": [],
   "source": [
    "conv_code = itpp.comm.Convolutional_Code()\n",
    "\n",
    "generators = itpp.ivec(3)\n",
    "generators[0] = 91  # Octal 0133\n",
    "generators[1] = 101 # Octal 0145\n",
    "generators[2] = 125 # Octal 0175\n",
    "constraint_length = 7\n",
    "conv_code.set_generator_polynomials(generators, constraint_length)"
   ]
  },
  {
   "cell_type": "markdown",
   "metadata": {},
   "source": [
    "# Initialize modulator, channel, and error counter"
   ]
  },
  {
   "cell_type": "code",
   "execution_count": 3,
   "metadata": {},
   "outputs": [],
   "source": [
    "# Initialize BPSK modulator\n",
    "bpsk = itpp.comm.BPSK()\n",
    "\n",
    "# Initialize an AWGN channel\n",
    "channel = itpp.comm.AWGN_Channel(noisevar=0)\n",
    "\n",
    "# Initialize bit error counter\n",
    "berc = itpp.comm.BERC(indelay=0, inignorefirst=0, inignorelast=0)"
   ]
  },
  {
   "cell_type": "markdown",
   "metadata": {},
   "source": [
    "# Set up some simulation specific parameters"
   ]
  },
  {
   "cell_type": "code",
   "execution_count": 4,
   "metadata": {},
   "outputs": [],
   "source": [
    "EbN0_dB = itpp.vec('-5:0.5:5')\n",
    "#EbN0 = itpp.math.inv_dB(EbN0_dB)\n",
    "\n",
    "energy_per_bit = 1.0 / conv_code.get_rate()\n",
    "#noise_variance = energy_per_bit * itpp.math.inv_db( EbN0_dB )\n",
    "\n",
    "nrof_bits = 10000 # Number of bits\n",
    "max_errors = 100\n",
    "max_iterations = 10\n",
    "\n",
    "ber = itpp.vec(EbN0_dB.length()) # Bit error rate\n",
    "ber.clear()\n",
    "\n",
    "# Randomize the random number generators\n",
    "itpp.random.RNG_reset(42)"
   ]
  },
  {
   "cell_type": "markdown",
   "metadata": {},
   "source": [
    "# Run the simulation"
   ]
  },
  {
   "cell_type": "code",
   "execution_count": 5,
   "metadata": {},
   "outputs": [
    {
     "name": "stdout",
     "output_type": "stream",
     "text": [
      "Now simulating point 1 out of 21 with EbN0_dB = -5.00\n",
      "Breaking on point 1 with 1014 errors\n",
      "Now simulating point 2 out of 21 with EbN0_dB = -4.50\n",
      "Breaking on point 2 with 581 errors\n",
      "Now simulating point 3 out of 21 with EbN0_dB = -4.00\n",
      "Breaking on point 3 with 270 errors\n",
      "Now simulating point 4 out of 21 with EbN0_dB = -3.50\n",
      "Breaking on point 4 with 205 errors\n",
      "Now simulating point 5 out of 21 with EbN0_dB = -3.00\n",
      "Breaking on point 5 with 104 errors\n",
      "Now simulating point 6 out of 21 with EbN0_dB = -2.50\n",
      "Breaking on point 6 with 108 errors\n",
      "Now simulating point 7 out of 21 with EbN0_dB = -2.00\n",
      "Now simulating point 8 out of 21 with EbN0_dB = -1.50\n",
      "Now simulating point 9 out of 21 with EbN0_dB = -1.00\n",
      "Now simulating point 10 out of 21 with EbN0_dB = -0.50\n",
      "Now simulating point 11 out of 21 with EbN0_dB = 0.00\n",
      "Now simulating point 12 out of 21 with EbN0_dB = 0.50\n",
      "Now simulating point 13 out of 21 with EbN0_dB = 1.00\n",
      "Now simulating point 14 out of 21 with EbN0_dB = 1.50\n",
      "Now simulating point 15 out of 21 with EbN0_dB = 2.00\n",
      "Now simulating point 16 out of 21 with EbN0_dB = 2.50\n",
      "Now simulating point 17 out of 21 with EbN0_dB = 3.00\n",
      "Now simulating point 18 out of 21 with EbN0_dB = 3.50\n",
      "Now simulating point 19 out of 21 with EbN0_dB = 4.00\n",
      "Now simulating point 20 out of 21 with EbN0_dB = 4.50\n",
      "Now simulating point 21 out of 21 with EbN0_dB = 5.00\n"
     ]
    }
   ],
   "source": [
    "transmitted_symbols = itpp.vec()\n",
    "for p in range(EbN0_dB.length()):\n",
    "    print('Now simulating point %d out of %d with EbN0_dB = %.2f'%(p + 1, EbN0_dB.length(), EbN0_dB[p]))\n",
    "    berc.clear()  # Clear the bit error rate counter.\n",
    "    \n",
    "    noise_variance = 10 ** (-0.1 * EbN0_dB[p])\n",
    "    channel.set_noise(noise_variance / 2.0);  # Set the noise value of the AWGN channel.\n",
    "    for i in range(max_iterations):\n",
    "      uncoded_bits = itpp.random.randb(nrof_bits)           \n",
    "      coded_bits = conv_code.encode(uncoded_bits)          \n",
    "        \n",
    "      bpsk.modulate_bits(coded_bits, transmitted_symbols)  \n",
    "      received_symbols = channel(transmitted_symbols)      \n",
    "        \n",
    "      decoded_bits = conv_code.decode(received_symbols)    \n",
    "      berc.count(uncoded_bits, decoded_bits)               \n",
    "          \n",
    "      ber[p] = berc.get_errorrate()\n",
    "      \n",
    "      # Break the simulation on this point if sufficient number of bit errors were observed\n",
    "      if (berc.get_errors() > max_errors):\n",
    "        print('Breaking on point %d with %d errors'%(p + 1, berc.get_errors()))\n",
    "        break"
   ]
  },
  {
   "cell_type": "markdown",
   "metadata": {},
   "source": [
    "# Plot results"
   ]
  },
  {
   "cell_type": "code",
   "execution_count": 8,
   "metadata": {},
   "outputs": [
    {
     "data": {
      "image/png": "[encoded data removed]",
      "text/plain": [
       "<Figure size 432x288 with 1 Axes>"
      ]
     },
     "metadata": {
      "needs_background": "light"
     },
     "output_type": "display_data"
    }
   ],
   "source": [
    "# print(ber)\n",
    "# print(EbN0_dB)\n",
    "import numpy as np\n",
    "\n",
    "EbN0_dB_np = np.array([ EbN0_dB[i] for i in range( EbN0_dB.length() ) ])\n",
    "ber_np = np.array([ ber[i] for i in range( ber.length() ) ])\n",
    "\n",
    "# Plot the results:\n",
    "plt.figure()\n",
    "plt.grid(True)\n",
    "\n",
    "#plt.semilogy(EbN0_dB.to_numpy_ndarray(), ber.to_numpy_ndarray())\n",
    "plt.semilogy(EbN0_dB_np, ber_np)\n",
    "plt.xlabel('EbN0_dB')\n",
    "plt.ylabel('BER')\n",
    "plt.show()"
   ]
  },
  {
   "cell_type": "code",
   "execution_count": null,
   "metadata": {},
   "outputs": [],
   "source": []
  }
 ],
 "metadata": {
  "kernelspec": {
   "display_name": "Python 3",
   "language": "python",
   "name": "python3"
  },
  "language_info": {
   "codemirror_mode": {
    "name": "ipython",
    "version": 3
   },
   "file_extension": ".py",
   "mimetype": "text/x-python",
   "name": "python",
   "nbconvert_exporter": "python",
   "pygments_lexer": "ipython3",
   "version": "3.6.7"
  }
 },
 "nbformat": 4,
 "nbformat_minor": 2
}
