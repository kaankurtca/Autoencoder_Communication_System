{
 "cells": [
  {
   "cell_type": "markdown",
   "metadata": {},
   "source": [
    "# Real valued Turbo codes over AWGN channel"
   ]
  },
  {
   "cell_type": "code",
   "execution_count": 1,
   "metadata": {},
   "outputs": [],
   "source": [
    "# Imports \n",
    "import itpp\n",
    "from matplotlib import pyplot as plt"
   ]
  },
  {
   "cell_type": "markdown",
   "metadata": {},
   "source": [
    "# BLER for uncoded over AWGN"
   ]
  },
  {
   "cell_type": "code",
   "execution_count": 2,
   "metadata": {},
   "outputs": [],
   "source": [
    "def block_error_ratio_uncoded_awgn(snr_db, block_size):\n",
    "    '''Generate random bits'''\n",
    "    nrof_bits = 3 * 10000 * block_size\n",
    "    source_bits = itpp.randb(nrof_bits)\n",
    "    \n",
    "    '''Modulate the bits'''\n",
    "    modulator = itpp.comm.BPSK()\n",
    "    tx_signal = modulator.modulate_bits(source_bits)\n",
    "    \n",
    "    '''Add the effect of channel to the signal'''\n",
    "    #noise_variance = itpp.math.inv_dB(-snr_db)\n",
    "    noise_variance = 10 ** (-snr_db * 0.1)\n",
    "    channel = itpp.comm.AWGN_Channel(noisevar=noise_variance)\n",
    "    rx_signal = channel(tx_signal)\n",
    "    \n",
    "    '''Demodulate the signal'''\n",
    "    demodulated_bits = modulator.demodulate_bits(rx_signal)\n",
    "    \n",
    "    '''Calculate the block error ratio'''\n",
    "    blerc = itpp.comm.BLERC(block_size)\n",
    "    blerc.count(source_bits, demodulated_bits)\n",
    "    return blerc.get_errorrate()"
   ]
  },
  {
   "cell_type": "markdown",
   "metadata": {},
   "source": [
    "# BLER for Turbo over AWGN"
   ]
  },
  {
   "cell_type": "code",
   "execution_count": 7,
   "metadata": {},
   "outputs": [],
   "source": [
    "def block_error_ratio_turbo_awgn(snr_db, block_size):\n",
    "  '''Create turbo_codec_instance'''\n",
    "  codec = itpp.comm.turbo_codec()\n",
    "  \n",
    "  '''Set codec parameters'''\n",
    "  gen = itpp.ivec(2)\n",
    "  gen[0] = 11\n",
    "  gen[1] = 13\n",
    "  constraint_length = 4\n",
    "  interleaver = itpp.comm.sequence_interleaver_int(block_size)\n",
    "  interleaver.randomize_interleaver_sequence()\n",
    "  codec.set_parameters(gen, \n",
    "                       gen, \n",
    "                       constraint_length, \n",
    "                       interleaver.get_interleaver_sequence(), \n",
    "                       8,\n",
    "                       \"LOGMAX\",\n",
    "                       1.0,\n",
    "                       False,\n",
    "                       itpp.comm.LLR_calc_unit())\n",
    "  \n",
    "  '''Generate random bits and encode them'''\n",
    "  interleaver_length = 48\n",
    "  nrof_uncoded_bits = interleaver_length * 1000\n",
    "  uncoded_bits = itpp.randb(nrof_uncoded_bits)\n",
    "  encoded_bits = itpp.bvec()\n",
    "  codec.encode(uncoded_bits, encoded_bits)\n",
    "  \n",
    "  '''Modulate bits using BPSK'''\n",
    "  modulator = itpp.comm.BPSK()\n",
    "  tx_signal = modulator.modulate_bits(encoded_bits)\n",
    "  \n",
    "  '''Add AWGN noise'''\n",
    "  #noise_variance = itpp.math.inv_dB(-snr_db)\n",
    "  noise_variance = 10 ** (-snr_db * 0.1)\n",
    "  channel = itpp.comm.AWGN_Channel(noisevar=noise_variance)\n",
    "  rx_signal = channel(tx_signal)\n",
    "  \n",
    "  '''Demodulate received signal (soft bits, LOGMAP)'''\n",
    "  soft_bits = itpp.vec()\n",
    "  modulator.demodulate_soft_bits(rx_signal, \n",
    "                                 noise_variance,\n",
    "                                 soft_bits,\n",
    "                                 itpp.comm.Soft_Method.LOGMAP)\n",
    "\n",
    "  '''Turbo decode the soft bits'''\n",
    "  decoded_bits = itpp.bvec()\n",
    "  codec.decode(soft_bits, decoded_bits, itpp.bvec())\n",
    "    \n",
    "  '''Count errors'''\n",
    "  blerc = itpp.comm.BLERC(interleaver_length)\n",
    "  blerc.count(decoded_bits, uncoded_bits)\n",
    "  return blerc.get_errorrate()"
   ]
  },
  {
   "cell_type": "markdown",
   "metadata": {},
   "source": [
    "# Run simulation"
   ]
  },
  {
   "cell_type": "code",
   "execution_count": 8,
   "metadata": {},
   "outputs": [
    {
     "name": "stdout",
     "output_type": "stream",
     "text": [
      "BLER for uncoded bits over AWGN channel\n",
      "BLER for Turbo coded  bits over AWGN channel, block length 48 and code rate 0.33\n"
     ]
    }
   ],
   "source": [
    "'''SNR range'''\n",
    "snrs_db = range(-10, 10) \n",
    "block_size = 4\n",
    "\n",
    "print('BLER for uncoded bits over AWGN channel')\n",
    "bler_unc = [block_error_ratio_uncoded_awgn(snr, block_size) for snr in snrs_db]\n",
    "\n",
    "print('BLER for Turbo coded  bits over AWGN channel, block length 48 and code rate 0.33')\n",
    "block_length = 48\n",
    "bler_turbo = [block_error_ratio_turbo_awgn(snr, block_length) for snr in snrs_db]"
   ]
  },
  {
   "cell_type": "code",
   "execution_count": 12,
   "metadata": {},
   "outputs": [],
   "source": [
    "'''Create turbo_codec_instance'''\n",
    "codec = itpp.comm.turbo_codec()\n",
    "\n",
    "'''Set codec parameters'''\n",
    "gen = itpp.ivec(2)\n",
    "gen[0] = 11\n",
    "gen[1] = 13\n",
    "constraint_length = 4\n",
    "interleaver = itpp.comm.sequence_interleaver_int(block_size)\n",
    "interleaver.randomize_interleaver_sequence()\n",
    "\n",
    "codec.set_parameters(gen1 = gen, \n",
    "                     gen2 = gen, \n",
    "                     constraint_length = 3, \n",
    "                     interleaver_sequence = interleaver.get_interleaver_sequence() )"
   ]
  },
  {
   "cell_type": "markdown",
   "metadata": {},
   "source": [
    "# Plot results"
   ]
  },
  {
   "cell_type": "code",
   "execution_count": 13,
   "metadata": {},
   "outputs": [
    {
     "name": "stdout",
     "output_type": "stream",
     "text": [
      "Plotting results\n"
     ]
    },
    {
     "data": {
      "image/png": "[encoded data removed]",
      "text/plain": [
       "<Figure size 432x288 with 1 Axes>"
      ]
     },
     "metadata": {},
     "output_type": "display_data"
    }
   ],
   "source": [
    "print('Plotting results')\n",
    "plt.figure()\n",
    "plt.grid(True)\n",
    "plt.semilogy(snrs_db, bler_unc)\n",
    "plt.semilogy(snrs_db, bler_turbo)\n",
    "plt.xlabel('SNR [dB]')\n",
    "plt.ylabel('Block Error Ratio')\n",
    "plt.legend(['Uncoded (4,4)', 'Turbo (48,0.33)'], loc = 'lower left')\n",
    "plt.show()"
   ]
  },
  {
   "cell_type": "code",
   "execution_count": null,
   "metadata": {},
   "outputs": [],
   "source": []
  }
 ],
 "metadata": {
  "kernelspec": {
   "display_name": "Python 3",
   "language": "python",
   "name": "python3"
  },
  "language_info": {
   "codemirror_mode": {
    "name": "ipython",
    "version": 3
   },
   "file_extension": ".py",
   "mimetype": "text/x-python",
   "name": "python",
   "nbconvert_exporter": "python",
   "pygments_lexer": "ipython3",
   "version": "3.6.9"
  }
 },
 "nbformat": 4,
 "nbformat_minor": 2
}
