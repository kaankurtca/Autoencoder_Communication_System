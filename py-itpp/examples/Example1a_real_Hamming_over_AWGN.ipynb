{
 "cells": [
  {
   "cell_type": "markdown",
   "metadata": {},
   "source": [
    "# Real valued Hamming codes over AWGN channel"
   ]
  },
  {
   "cell_type": "code",
   "execution_count": 1,
   "metadata": {},
   "outputs": [],
   "source": [
    "# Imports\n",
    "import itpp\n",
    "from matplotlib import pyplot as plt"
   ]
  },
  {
   "cell_type": "markdown",
   "metadata": {},
   "source": [
    "# BER for uncoded over AWGN"
   ]
  },
  {
   "cell_type": "code",
   "execution_count": 3,
   "metadata": {},
   "outputs": [],
   "source": [
    "def bit_error_ratio_uncoded_awgn(snr_db):\n",
    "    '''Generate random bits'''\n",
    "    nrof_bits = 3 * 100000\n",
    "    source_bits = itpp.randb(nrof_bits)\n",
    "    \n",
    "    '''Modulate the bits'''\n",
    "    modulator = itpp.comm.BPSK()\n",
    "    tx_signal = modulator.modulate_bits(source_bits)\n",
    "    \n",
    "    '''Add the effect of channel to the signal'''\n",
    "    #noise_variance = itpp.math.inv_dB(-snr_db)\n",
    "    noise_variance = 10 ** (-snr_db * 0.1)\n",
    "    channel = itpp.comm.AWGN_Channel(noisevar=noise_variance)\n",
    "\n",
    "    rx_signal = channel(tx_signal)\n",
    "    \n",
    "    '''Demodulate the signal'''\n",
    "    demodulated_bits = modulator.demodulate_bits(rx_signal)\n",
    "    \n",
    "    '''Calculate the bit error ratio'''\n",
    "    return itpp.comm.BERC.count_errors(source_bits, demodulated_bits, 0, 0, 0) / nrof_bits"
   ]
  },
  {
   "cell_type": "markdown",
   "metadata": {},
   "source": [
    "# BER for Hamming (7, 4) coded over AWGN"
   ]
  },
  {
   "cell_type": "code",
   "execution_count": 4,
   "metadata": {},
   "outputs": [],
   "source": [
    "def bit_error_ratio_hamming_awgn(snr_db):\n",
    "    '''Hamming encoder and decoder instance'''\n",
    "    k = 3 # (7,4) Hamming code\n",
    "    hamm = itpp.comm.Hamming_Code(k)\n",
    "    \n",
    "    '''Generate random bits'''\n",
    "    nrof_bits = k * 100000\n",
    "    source_bits = itpp.randb(nrof_bits)\n",
    "    \n",
    "    '''Encode the bits'''\n",
    "    encoded_bits = hamm.encode(source_bits)\n",
    "    \n",
    "    '''Modulate the bits'''\n",
    "    modulator = itpp.comm.BPSK()\n",
    "    tx_signal = modulator.modulate_bits(encoded_bits)\n",
    "    \n",
    "    '''Add the effect of channel to the signal'''\n",
    "    #noise_variance = itpp.math.inv_dB(-snr_db)\n",
    "    noise_variance = 10 ** (-snr_db * 0.1)\n",
    "    channel = itpp.comm.AWGN_Channel(noisevar=noise_variance)\n",
    "\n",
    "    rx_signal = channel(tx_signal)\n",
    "    \n",
    "    '''Demodulate the signal'''\n",
    "    demodulated_bits = modulator.demodulate_bits(rx_signal)\n",
    "    \n",
    "    '''Decode the received bits'''\n",
    "    decoded_bits = hamm.decode(demodulated_bits) \n",
    "    \n",
    "    '''Calculate the bit error ratio'''\n",
    "    return itpp.comm.BERC.count_errors(source_bits, decoded_bits, 0, 0, 0) / nrof_bits"
   ]
  },
  {
   "cell_type": "markdown",
   "metadata": {},
   "source": [
    "# Run simulation"
   ]
  },
  {
   "cell_type": "code",
   "execution_count": 5,
   "metadata": {},
   "outputs": [
    {
     "name": "stdout",
     "output_type": "stream",
     "text": [
      "BER for uncoded bits over AWGN channel\n",
      "BER for Hamming (7, 4) coded  bits over AWGN channel\n"
     ]
    }
   ],
   "source": [
    "'''SNR range'''\n",
    "snrs_db = range(-10, 10) \n",
    "\n",
    "print('BER for uncoded bits over AWGN channel')\n",
    "ber_unc = [bit_error_ratio_uncoded_awgn(snr) for snr in snrs_db]\n",
    "\n",
    "print('BER for Hamming (7, 4) coded  bits over AWGN channel')\n",
    "ber = [bit_error_ratio_hamming_awgn(snr) for snr in snrs_db]"
   ]
  },
  {
   "cell_type": "markdown",
   "metadata": {},
   "source": [
    "# Plot results"
   ]
  },
  {
   "cell_type": "code",
   "execution_count": 6,
   "metadata": {},
   "outputs": [
    {
     "data": {
      "image/png": "[encoded data removed]",
      "text/plain": [
       "<Figure size 432x288 with 1 Axes>"
      ]
     },
     "metadata": {
      "needs_background": "light"
     },
     "output_type": "display_data"
    }
   ],
   "source": [
    "plt.figure()\n",
    "plt.grid(True)\n",
    "plt.semilogy(snrs_db, ber)\n",
    "plt.semilogy(snrs_db, ber_unc)\n",
    "plt.xlabel('SNR [dB]')\n",
    "plt.ylabel('Bit Error Ratio')\n",
    "plt.legend(['Hamming Code', 'Uncoded'])\n",
    "plt.show()"
   ]
  },
  {
   "cell_type": "code",
   "execution_count": null,
   "metadata": {},
   "outputs": [],
   "source": []
  }
 ],
 "metadata": {
  "kernelspec": {
   "display_name": "Python 3",
   "language": "python",
   "name": "python3"
  },
  "language_info": {
   "codemirror_mode": {
    "name": "ipython",
    "version": 3
   },
   "file_extension": ".py",
   "mimetype": "text/x-python",
   "name": "python",
   "nbconvert_exporter": "python",
   "pygments_lexer": "ipython3",
   "version": "3.6.7"
  }
 },
 "nbformat": 4,
 "nbformat_minor": 2
}
