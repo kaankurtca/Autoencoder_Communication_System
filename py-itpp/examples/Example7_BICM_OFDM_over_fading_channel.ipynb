{
 "cells": [
  {
   "cell_type": "markdown",
   "metadata": {},
   "source": [
    "# Introduction\n",
    "\n",
    "In this example we will simulate bit-interleaved coded modulation (BICM) transmission. The transmitted signal is spread over several subcarriers in the frequency domain, termed orthogonal frequency division multiplexing (OFDM). The radio channel is frequency selective fading channel.\n",
    "\n",
    "Refer to Section 2.1 of the paper \"Deep Learning for Frame Error Probability Prediction in BICM-OFDM Systems\" for a brief description of the complete radio link chain (https://arxiv.org/abs/1710.11270). The block diagram is reproduced below for reference:  \n",
    "\n",
    "<img src=\"radio_link_chain.PNG\">"
   ]
  },
  {
   "cell_type": "code",
   "execution_count": 1,
   "metadata": {},
   "outputs": [],
   "source": [
    "import itpp\n",
    "from matplotlib import pyplot as plt"
   ]
  },
  {
   "cell_type": "markdown",
   "metadata": {},
   "source": [
    "# Setup simulation parameters"
   ]
  },
  {
   "cell_type": "code",
   "execution_count": 2,
   "metadata": {},
   "outputs": [
    {
     "name": "stdout",
     "output_type": "stream",
     "text": [
      "Transmitted bits per channel use: 256\n"
     ]
    }
   ],
   "source": [
    "modulation_order = 1 # Bits per modulated symbol for each subcarrier\n",
    "nrof_subcarriers = 256\n",
    "nrof_transmit_bits = nrof_subcarriers * modulation_order\n",
    "\n",
    "nrof_information_bits = 80 # Information bits per channel use\n",
    "\n",
    "nrof_channel_use = 100000\n",
    "\n",
    "print('Transmitted bits per channel use: %d'%(nrof_transmit_bits))"
   ]
  },
  {
   "cell_type": "markdown",
   "metadata": {},
   "source": [
    "# Set the Random number generator seed for reproduceability"
   ]
  },
  {
   "cell_type": "code",
   "execution_count": 3,
   "metadata": {},
   "outputs": [],
   "source": [
    "itpp.RNG_reset(42)"
   ]
  },
  {
   "cell_type": "markdown",
   "metadata": {},
   "source": [
    "# Setup the channel coder"
   ]
  },
  {
   "cell_type": "code",
   "execution_count": 4,
   "metadata": {},
   "outputs": [
    {
     "name": "stdout",
     "output_type": "stream",
     "text": [
      "Nominal channel code rate: 0.310078\n",
      "Transmitted channel code rate: 0.312500\n"
     ]
    }
   ],
   "source": [
    "conv_code = itpp.comm.Convolutional_Code()\n",
    "\n",
    "generators = itpp.ivec(3)\n",
    "generators[0] = 91  # Octal 0133\n",
    "generators[1] = 101 # Octal 0145\n",
    "generators[2] = 125 # Octal 0175\n",
    "constraint_length = 7\n",
    "conv_code.set_generator_polynomials(generators, constraint_length)\n",
    "\n",
    "dummy = itpp.bvec()\n",
    "conv_code.encode_tail(itpp.randb(nrof_information_bits), dummy)\n",
    "nrof_coded_bits = dummy.length() # find out how long the coded blocks are\n",
    "\n",
    "print('Nominal channel code rate: %f'%(float(nrof_information_bits) / float(nrof_coded_bits)))\n",
    "print('Transmitted channel code rate: %f'%(float(nrof_information_bits) / float(nrof_transmit_bits)))"
   ]
  },
  {
   "cell_type": "markdown",
   "metadata": {},
   "source": [
    "# Setup the Modulator"
   ]
  },
  {
   "cell_type": "code",
   "execution_count": 5,
   "metadata": {},
   "outputs": [],
   "source": [
    "if modulation_order == 1:\n",
    "    modulator = itpp.comm.BPSK_c()\n",
    "elif modulation_order in [2, 4, 6, 8]:\n",
    "    modulator = itpp.comm.QAM(int(itpp.math.pow(2, modulation_order)))\n",
    "else:\n",
    "    print('Modulation order %d not supported'%(modulation_order))\n",
    "\n",
    "# Plot the constellation symbols\n",
    "#plt.figure()\n",
    "#indices = modulator.get_bits2symbols().to_numpy_ndarray()\n",
    "#constellation = modulator.get_symbols().to_numpy_ndarray()\n",
    "#for i, c in zip(indices, constellation):\n",
    "#    plt.scatter(c.real, c.imag, color='b')\n",
    "#    plt.annotate(i, [c.real, c.imag])\n",
    "\n",
    "# Reposition the axes to center of plot\n",
    "#plt.gca().spines['left'].set_position('center')\n",
    "#plt.gca().spines['bottom'].set_position('center')\n",
    "#plt.gca().spines['right'].set_color('none')\n",
    "#plt.gca().spines['top'].set_color('none')\n",
    "\n",
    "#plt.show()"
   ]
  },
  {
   "cell_type": "markdown",
   "metadata": {},
   "source": [
    "# Setup a frequency selective channel"
   ]
  },
  {
   "cell_type": "code",
   "execution_count": 6,
   "metadata": {},
   "outputs": [],
   "source": [
    "channel_model = itpp.comm.Channel_Specification(itpp.comm.CHANNEL_PROFILE.ITU_Vehicular_A)\n",
    "channel = itpp.comm.TDL_Channel(channel_model, sampling_time = 1e-6)\n",
    "channel.set_norm_doppler(0.01)\n",
    "\n",
    "# Generate the channel samples\n",
    "channel_impulse_response = itpp.cmat()\n",
    "channel.generate(nrof_channel_use, channel_impulse_response)\n",
    "channel_frequency_response = itpp.cmat()\n",
    "channel.calc_frequency_response(channel_impulse_response, channel_frequency_response, fft_size= nrof_subcarriers)\n",
    "\n",
    "# Plot the magnitude of first 100 channel samples\n",
    "#import numpy as np\n",
    "#from mpl_toolkits.mplot3d import Axes3D\n",
    "\n",
    "#channel_magnitude = itpp.math.abs(channel_frequency_response)\n",
    "\n",
    "#plt.figure()\n",
    "#Z = channel_magnitude.get_cols(0, 99).to_numpy_ndarray()\n",
    "#x = np.arange(0, nrof_subcarriers)\n",
    "#y = np.arange(0, 100)\n",
    "#X, Y = np.meshgrid(x, y)\n",
    "#plt.gca(projection='3d').plot_surface(X, Y, np.transpose(Z))\n",
    "\n",
    "#plt.gca().set_xlabel('Subcarrier')\n",
    "#plt.gca().set_ylabel('Channel Use')\n",
    "#plt.gca().set_zlabel('Channel Magnitude')"
   ]
  },
  {
   "cell_type": "markdown",
   "metadata": {},
   "source": [
    "# Generate transmission symbols"
   ]
  },
  {
   "cell_type": "code",
   "execution_count": 8,
   "metadata": {},
   "outputs": [
    {
     "name": "stdout",
     "output_type": "stream",
     "text": [
      "Done!\n"
     ]
    }
   ],
   "source": [
    "noise_variance = 0.02\n",
    "soft_values = itpp.vec(nrof_coded_bits)\n",
    "success = itpp.bvec(nrof_channel_use)\n",
    "for i in range(nrof_channel_use):\n",
    "    \n",
    "    # --------------------------------------------------------------------\n",
    "    # Transmitter\n",
    "    # --------------------------------------------------------------------\n",
    "    \n",
    "    # Generate random information bits\n",
    "    information_bits = itpp.randb(nrof_information_bits)\n",
    "    \n",
    "    # Channel code the information bits\n",
    "    code_bits = conv_code.encode_tail(information_bits)\n",
    "    \n",
    "    # Extract code bits for transmission\n",
    "    if code_bits.length() > nrof_transmit_bits:\n",
    "        transmit_bits = code_bits.left(nrof_transmit_bits)\n",
    "    else:\n",
    "        transmit_bits = code_bits\n",
    "    \n",
    "    # Modulate the transmit bits to constellation symbols\n",
    "    modulated_symbols = modulator.modulate_bits(transmit_bits)\n",
    "\n",
    "    # Load the modulated symbols to OFDM subcarriers\n",
    "    ofdm_symbols = itpp.signal.ifft(modulated_symbols, nrof_subcarriers)\n",
    "    \n",
    "    # --------------------------------------------------------------------\n",
    "    # Channel\n",
    "    # --------------------------------------------------------------------\n",
    "    \n",
    "    # Extract the frequency domain (complex) channel coefficients \n",
    "    channel_coefficents = channel_frequency_response.get_col(i)\n",
    "    \n",
    "    # Generate random white Gaussian noise for the complex symbols\n",
    "    noise = itpp.randn_c(nrof_subcarriers) * (0.5 * itpp.math.sqrt(noise_variance))\n",
    "    \n",
    "    # Propagate the OFDM symbols through channel and add the noise\n",
    "    received_symbols = itpp.elem_mult(ofdm_symbols, channel_coefficents) + noise\n",
    "    \n",
    "    # --------------------------------------------------------------------\n",
    "    # Receiver\n",
    "    # --------------------------------------------------------------------\n",
    "    \n",
    "    # De-multiplex the OFDM symbols\n",
    "    demultiplexed_symbols = itpp.signal.fft(received_symbols, nrof_subcarriers)\n",
    "    \n",
    "    # Demodulate the symbols to soft values (log-likelihood ratios)\n",
    "    demodulated_soft_values = modulator.demodulate_soft_bits(demultiplexed_symbols, channel_coefficents, noise_variance, itpp.comm.Soft_Method.LOGMAP)\n",
    "    \n",
    "    # Pad the soft values with zeros before channel decoding\n",
    "    if nrof_coded_bits > nrof_transmit_bits:\n",
    "        demodulated_soft_values.ins(nrof_transmit_bits, itpp.zeros(nrof_coded_bits - nrof_transmit_bits))\n",
    "    \n",
    "    # Decode the demodulated values to re-construct the information bits\n",
    "    decoded_bits = conv_code.decode_tail(demodulated_soft_values)\n",
    "\n",
    "    # Collect statistics on transmission success\n",
    "    if information_bits == decoded_bits:\n",
    "        success[i] = itpp.bin(True)\n",
    "    else:\n",
    "        success[i] = itpp.bin(False)\n",
    "        \n",
    "print('Done!')"
   ]
  },
  {
   "cell_type": "code",
   "execution_count": 9,
   "metadata": {},
   "outputs": [
    {
     "name": "stdout",
     "output_type": "stream",
     "text": [
      "Error rate: 0.460090\n"
     ]
    }
   ],
   "source": [
    "import numpy as np\n",
    "\n",
    "error_rate = 1.0 - np.mean( np.array( success ) )\n",
    "print('Error rate: %f'%(error_rate))"
   ]
  },
  {
   "cell_type": "markdown",
   "metadata": {},
   "source": [
    "# Save the data"
   ]
  },
  {
   "cell_type": "code",
   "execution_count": 10,
   "metadata": {},
   "outputs": [],
   "source": [
    "channel_magnitude = np.absolute( np.array( channel_frequency_response) )\n",
    "transmission_success = np.array( success )\n",
    "\n",
    "np.save('datafile.npy', {'channel_magnitude': channel_magnitude,\n",
    "                         'transmission_success': transmission_success})"
   ]
  },
  {
   "cell_type": "markdown",
   "metadata": {},
   "source": [
    "# Load the data"
   ]
  },
  {
   "cell_type": "code",
   "execution_count": 12,
   "metadata": {},
   "outputs": [
    {
     "name": "stdout",
     "output_type": "stream",
     "text": [
      "(256, 100000)\n",
      "(100000,)\n"
     ]
    }
   ],
   "source": [
    "data = np.load('datafile.npy', allow_pickle=True)[()]\n",
    "print(data['channel_magnitude'].shape)\n",
    "print(data['transmission_success'].shape)"
   ]
  },
  {
   "cell_type": "code",
   "execution_count": null,
   "metadata": {},
   "outputs": [],
   "source": []
  }
 ],
 "metadata": {
  "kernelspec": {
   "display_name": "Python 3",
   "language": "python",
   "name": "python3"
  },
  "language_info": {
   "codemirror_mode": {
    "name": "ipython",
    "version": 3
   },
   "file_extension": ".py",
   "mimetype": "text/x-python",
   "name": "python",
   "nbconvert_exporter": "python",
   "pygments_lexer": "ipython3",
   "version": "3.6.9"
  }
 },
 "nbformat": 4,
 "nbformat_minor": 2
}
